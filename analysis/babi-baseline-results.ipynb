{
 "cells": [
  {
   "cell_type": "code",
   "execution_count": 1,
   "metadata": {},
   "outputs": [],
   "source": [
    "%matplotlib inline "
   ]
  },
  {
   "cell_type": "code",
   "execution_count": 11,
   "metadata": {},
   "outputs": [],
   "source": [
    "import os\n",
    "import json\n",
    "import re \n",
    "\n",
    "import pandas as pd\n",
    "import seaborn as sns\n",
    "import matplotlib.pyplot as plt\n",
    "\n",
    "from pandas.io.json import json_normalize\n",
    "\n",
    "plt.rcParams['figure.figsize'] = [16, 9]"
   ]
  },
  {
   "cell_type": "code",
   "execution_count": 12,
   "metadata": {},
   "outputs": [
    {
     "ename": "FileNotFoundError",
     "evalue": "[Errno 2] No such file or directory: '../results/avulsos/'",
     "output_type": "error",
     "traceback": [
      "\u001b[0;31m---------------------------------------------------------------------------\u001b[0m",
      "\u001b[0;31mFileNotFoundError\u001b[0m                         Traceback (most recent call last)",
      "\u001b[0;32m<ipython-input-12-be1dc95ce8cc>\u001b[0m in \u001b[0;36m<module>\u001b[0;34m()\u001b[0m\n\u001b[1;32m      5\u001b[0m \u001b[0mFOLDER\u001b[0m \u001b[0;34m=\u001b[0m \u001b[0;34m'../results/avulsos/'\u001b[0m\u001b[0;34m\u001b[0m\u001b[0;34m\u001b[0m\u001b[0m\n\u001b[1;32m      6\u001b[0m \u001b[0mregex\u001b[0m \u001b[0;34m=\u001b[0m \u001b[0mre\u001b[0m\u001b[0;34m.\u001b[0m\u001b[0mcompile\u001b[0m\u001b[0;34m(\u001b[0m\u001b[0;34mr'.csv'\u001b[0m\u001b[0;34m)\u001b[0m\u001b[0;34m\u001b[0m\u001b[0;34m\u001b[0m\u001b[0m\n\u001b[0;32m----> 7\u001b[0;31m \u001b[0mfolders\u001b[0m \u001b[0;34m=\u001b[0m \u001b[0mset\u001b[0m\u001b[0;34m(\u001b[0m\u001b[0mos\u001b[0m\u001b[0;34m.\u001b[0m\u001b[0mlistdir\u001b[0m\u001b[0;34m(\u001b[0m\u001b[0mFOLDER\u001b[0m\u001b[0;34m)\u001b[0m\u001b[0;34m)\u001b[0m\u001b[0;34m\u001b[0m\u001b[0;34m\u001b[0m\u001b[0m\n\u001b[0m\u001b[1;32m      8\u001b[0m \u001b[0mfolders\u001b[0m \u001b[0;34m=\u001b[0m \u001b[0mfilter\u001b[0m\u001b[0;34m(\u001b[0m\u001b[0;32mlambda\u001b[0m \u001b[0mi\u001b[0m\u001b[0;34m:\u001b[0m \u001b[0mregex\u001b[0m\u001b[0;34m.\u001b[0m\u001b[0msearch\u001b[0m\u001b[0;34m(\u001b[0m\u001b[0mi\u001b[0m\u001b[0;34m)\u001b[0m\u001b[0;34m,\u001b[0m \u001b[0mfolders\u001b[0m\u001b[0;34m)\u001b[0m\u001b[0;34m\u001b[0m\u001b[0;34m\u001b[0m\u001b[0m\n\u001b[1;32m      9\u001b[0m \u001b[0mfolders\u001b[0m \u001b[0;34m=\u001b[0m \u001b[0;34m[\u001b[0m\u001b[0mi\u001b[0m \u001b[0;32mfor\u001b[0m \u001b[0mi\u001b[0m \u001b[0;32min\u001b[0m \u001b[0mfolders\u001b[0m \u001b[0;32mif\u001b[0m \u001b[0mregex\u001b[0m\u001b[0;34m.\u001b[0m\u001b[0msearch\u001b[0m\u001b[0;34m(\u001b[0m\u001b[0mi\u001b[0m\u001b[0;34m)\u001b[0m\u001b[0;34m]\u001b[0m\u001b[0;34m\u001b[0m\u001b[0;34m\u001b[0m\u001b[0m\n",
      "\u001b[0;31mFileNotFoundError\u001b[0m: [Errno 2] No such file or directory: '../results/avulsos/'"
     ]
    }
   ],
   "source": [
    "def CustomParser(data):\n",
    "    return json.loads(data)\n",
    "\n",
    "\n",
    "FOLDER = '../results/avulsos/'\n",
    "regex = re.compile(r'.csv')\n",
    "folders = set(os.listdir(FOLDER))\n",
    "folders = filter(lambda i: regex.search(i), folders)\n",
    "folders = [i for i in folders if regex.search(i)]\n",
    "\n",
    "df = pd.DataFrame()\n",
    "# Read csv file\n",
    "for filename in folders:\n",
    "    ddf = pd.read_csv(FOLDER + filename, sep=';', converters={'db_parameters': CustomParser, 'model_cfg': CustomParser})\n",
    "    ddf[sorted(ddf['db_parameters'][0].keys())] = ddf['db_parameters'].apply(pd.Series)\n",
    "    ddf[sorted(ddf['model_cfg'][0].keys())] = ddf['model_cfg'].apply(pd.Series)\n",
    "    \n",
    "    df = pd.concat([df, ddf])"
   ]
  },
  {
   "cell_type": "code",
   "execution_count": null,
   "metadata": {},
   "outputs": [],
   "source": [
    "df.shape"
   ]
  },
  {
   "cell_type": "code",
   "execution_count": null,
   "metadata": {},
   "outputs": [],
   "source": [
    "FOLDER = '../results/'\n",
    "folders = set(os.listdir(FOLDER))\n",
    "\n",
    "regex = re.compile(r'.csv')\n",
    "# use only one of the following lines, whichever you prefer\n",
    "folders = filter(lambda i: not regex.search(i), folders)\n",
    "folders = [i for i in folders if not regex.search(i)]\n",
    "\n",
    "folders.remove('_sources')\n",
    "folders.remove('avulsos')\n",
    "folders"
   ]
  },
  {
   "cell_type": "code",
   "execution_count": null,
   "metadata": {},
   "outputs": [],
   "source": [
    "result = {\n",
    "    'acc': [],\n",
    "    'f1': [],\n",
    "    'db': [],\n",
    "    'task': [],\n",
    "    'model': [],\n",
    "    'db_parameters': []\n",
    "}\n",
    "\n",
    "reports = pd.DataFrame()\n",
    "\n",
    "report_id = 0\n",
    "for root_folder in folders:\n",
    "    for fold in os.listdir(FOLDER + root_folder):\n",
    "        for run_id in os.listdir(FOLDER + root_folder + '/'+fold):\n",
    "            current_folder = FOLDER + root_folder + '/' + fold + '/' + run_id\n",
    "\n",
    "            metrics_file = current_folder + '/metrics-test.csv'\n",
    "            config_file = current_folder + '/config.json'\n",
    "            report_file = current_folder + '/report-train.csv'\n",
    "\n",
    "            if not os.path.exists(metrics_file) or not os.path.exists(config_file):\n",
    "                continue\n",
    "                \n",
    "            config_df = pd.read_json(config_file)\n",
    "#             if config_df['dataset_cfg']['reader'] != \"pypagai.preprocessing.dataset_babi.BaBIDataset\":\n",
    "#                 continue\n",
    "\n",
    "            db = 'babi'\n",
    "            task = config_df['dataset_cfg']['task']\n",
    "            model = config_df['model_default_cfg']['model'].split('.')[-1]            \n",
    "            \n",
    "            if os.path.exists(report_file):\n",
    "                report_df = pd.read_csv(report_file)\n",
    "                report_df = report_df.reset_index()\n",
    "                report_df['dataset'] = db\n",
    "                report_df['task'] = task\n",
    "                report_df['model'] = model\n",
    "                report_df['id'] = report_id\n",
    "                reports = pd.concat([reports,report_df])\n",
    "                report_id += 1\n",
    "\n",
    "            metrics_df = pd.read_csv(metrics_file)\n",
    "            acc = metrics_df['accuracy'][0]\n",
    "            f1 = metrics_df['f1_micro'][0]\n",
    "\n",
    "            result['f1'].append(f1)\n",
    "            result['db'].append(db)\n",
    "            result['acc'].append(acc)\n",
    "            result['task'].append(task)\n",
    "            result['model'].append(model)\n",
    "            result['db_parameters'].append(config_file)\n",
    "\n",
    "new_results = pd.DataFrame(result)\n",
    "df = pd.concat([df, new_results])"
   ]
  },
  {
   "cell_type": "code",
   "execution_count": null,
   "metadata": {},
   "outputs": [],
   "source": [
    "# Show best result of each model for each babi task\n",
    "# model_list = ['ConvInputsRN','ConvQueryRN','ConvRN','ConvStoryRN','EmbedLSTM','EncoderModel','RNNModel','RNNoLSTM','SimpleLSTM']\n",
    "\n",
    "ddf = df[df['db'] == 'babi']\n",
    "# ddf = ddf[~(ddf['model'].isin(model_list))]\n",
    "ddf = ddf.groupby(['db', 'model', 'task'])\n",
    "ddf = ddf.max()\n",
    "ddf = ddf.reset_index()\n",
    "pivot = ddf[['model', 'acc', 'task']].pivot('task', 'model')\n",
    "pivot = pivot['acc']\n",
    "\n",
    "plt.figure(figsize = (16,9))\n",
    "sns.heatmap(pivot, cmap=\"Blues\", linewidths=1, annot=True, cbar=False, vmin=0.949, vmax=0.95)\n",
    "pivot"
   ]
  },
  {
   "cell_type": "code",
   "execution_count": null,
   "metadata": {},
   "outputs": [],
   "source": [
    "# Show best result of each model for each babi task\n",
    "model_list = ['ConvInputsRN','ConvQueryRN','ConvRN','ConvStoryRN','ConvLSTM','RNNoLSTM']\n",
    "\n",
    "ddf = df[df['db'] == 'babi']\n",
    "ddf = ddf[~(ddf['model'].isin(model_list))]\n",
    "ddf = ddf.groupby(['db', 'model', 'task'])\n",
    "ddf = ddf.max()\n",
    "ddf = ddf.reset_index()\n",
    "pivot = ddf[['model', 'acc', 'task']].pivot('task', 'model')\n",
    "pivot = pivot['acc']\n",
    "\n",
    "plt.figure(figsize = (16,9))\n",
    "sns.heatmap(pivot, cmap=\"Blues\", linewidths=1, annot=True, cbar=False, vmin=0.949, vmax=0.95)"
   ]
  },
  {
   "cell_type": "markdown",
   "metadata": {},
   "source": [
    "# Epoch evolution"
   ]
  },
  {
   "cell_type": "code",
   "execution_count": null,
   "metadata": {},
   "outputs": [],
   "source": [
    "ids = list(reports[reports['index'] > 500]['id'].unique())"
   ]
  },
  {
   "cell_type": "code",
   "execution_count": null,
   "metadata": {},
   "outputs": [],
   "source": [
    "import seaborn as sns\n",
    "sns.set(style=\"darkgrid\")\n",
    "\n",
    "selected_models = ['RNNModel', 'N2NMemory', 'RN']\n",
    "reports['selected'] = False\n",
    "reports.loc[reports['model'].isin(selected_models), 'selected'] = True\n",
    "\n",
    "f, (ax1, ax2) = plt.subplots(1,2)\n",
    "\n",
    "# Plot the responses for different events and regions\n",
    "sns.lineplot(x=\"index\", y=\"acc\", data=reports[reports['id'].isin(ids)], ax=ax1)\n",
    "\n",
    "sns.lineplot(x=\"index\", y=\"acc\", data=reports[reports['id'].isin(ids)], hue='selected', ax=ax2)"
   ]
  },
  {
   "cell_type": "code",
   "execution_count": null,
   "metadata": {},
   "outputs": [],
   "source": [
    "sns.lineplot(x=\"index\", y=\"acc\", hue='model', data=reports[(reports['id'].isin(ids)) & (~reports['model'].isin(model_list))])"
   ]
  },
  {
   "cell_type": "code",
   "execution_count": null,
   "metadata": {},
   "outputs": [],
   "source": [
    "sns.lineplot(x=\"index\", y=\"acc\", hue='task', data=reports[(reports['id'].isin(ids)) & (~reports['model'].isin(model_list))])"
   ]
  },
  {
   "cell_type": "code",
   "execution_count": null,
   "metadata": {},
   "outputs": [],
   "source": [
    "reports['task'] = reports['task'].astype(int)\n",
    "reports['task'].unique()"
   ]
  }
 ],
 "metadata": {
  "kernelspec": {
   "display_name": "Python 3",
   "language": "python",
   "name": "python3"
  },
  "language_info": {
   "codemirror_mode": {
    "name": "ipython",
    "version": 3
   },
   "file_extension": ".py",
   "mimetype": "text/x-python",
   "name": "python",
   "nbconvert_exporter": "python",
   "pygments_lexer": "ipython3",
   "version": "3.6.6"
  }
 },
 "nbformat": 4,
 "nbformat_minor": 2
}
